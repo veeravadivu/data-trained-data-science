{
 "cells": [
  {
   "cell_type": "code",
   "execution_count": null,
   "id": "306a24a6-82a4-4216-af49-10397741ba5c",
   "metadata": {},
   "outputs": [],
   "source": []
  },
  {
   "cell_type": "code",
   "execution_count": 7,
   "id": "c5e0033c-deb2-45a0-8c0e-a1430f0ab180",
   "metadata": {},
   "outputs": [
    {
     "name": "stdout",
     "output_type": "stream",
     "text": [
      "hello Data science world!!\n"
     ]
    }
   ],
   "source": [
    "print(\"hello Data science world!!\")"
   ]
  },
  {
   "cell_type": "code",
   "execution_count": 2,
   "id": "7e1d7268-6d33-4a2a-8ee4-659b9bb18eff",
   "metadata": {},
   "outputs": [
    {
     "name": "stdout",
     "output_type": "stream",
     "text": [
      "Ravikesh pandey\n"
     ]
    }
   ],
   "source": [
    "print(\"Ravikesh pandey\")"
   ]
  },
  {
   "cell_type": "code",
   "execution_count": null,
   "id": "513c52c7-8ee2-4df1-8ac8-5cb570cd24c2",
   "metadata": {},
   "outputs": [],
   "source": []
  },
  {
   "cell_type": "code",
   "execution_count": 3,
   "id": "e4dabfcc-b218-4ee5-9340-5d590c2ccdf6",
   "metadata": {},
   "outputs": [
    {
     "data": {
      "text/plain": [
       "51"
      ]
     },
     "execution_count": 3,
     "metadata": {},
     "output_type": "execute_result"
    }
   ],
   "source": [
    "24+27"
   ]
  },
  {
   "cell_type": "markdown",
   "id": "5672f434-a922-4a81-bef9-852bedb22e3e",
   "metadata": {},
   "source": [
    "Python is a programming language which is case sensitive. \n",
    "\n",
    "Python is also interpreted language"
   ]
  },
  {
   "cell_type": "markdown",
   "id": "a756b307-ced9-4ef5-9e41-275cc5de6d28",
   "metadata": {},
   "source": [
    "Shortcuts\n",
    "\n",
    "to add the cell below the current cell- Esc+B\n",
    "\n",
    "to add the cell above the current cell- Esc+A\n",
    "\n",
    "to execute the code- shift + enter or ctrl + enter\n",
    "\n",
    "\n",
    "Delete a particular cell- "
   ]
  },
  {
   "cell_type": "code",
   "execution_count": null,
   "id": "1c288666-b963-4a15-a70e-93d82e633b95",
   "metadata": {},
   "outputs": [],
   "source": []
  },
  {
   "cell_type": "code",
   "execution_count": 4,
   "id": "e61ce7ee-6dc1-478f-ba20-d0ea250ed575",
   "metadata": {},
   "outputs": [
    {
     "data": {
      "text/plain": [
       "5.0"
      ]
     },
     "execution_count": 4,
     "metadata": {},
     "output_type": "execute_result"
    }
   ],
   "source": [
    "25/5"
   ]
  }
 ],
 "metadata": {
  "kernelspec": {
   "display_name": "Python 3 (ipykernel)",
   "language": "python",
   "name": "python3"
  },
  "language_info": {
   "codemirror_mode": {
    "name": "ipython",
    "version": 3
   },
   "file_extension": ".py",
   "mimetype": "text/x-python",
   "name": "python",
   "nbconvert_exporter": "python",
   "pygments_lexer": "ipython3",
   "version": "3.11.7"
  }
 },
 "nbformat": 4,
 "nbformat_minor": 5
}
